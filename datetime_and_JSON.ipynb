{
  "nbformat": 4,
  "nbformat_minor": 0,
  "metadata": {
    "colab": {
      "provenance": []
    },
    "kernelspec": {
      "name": "python3",
      "display_name": "Python 3"
    },
    "language_info": {
      "name": "python"
    }
  },
  "cells": [
    {
      "cell_type": "code",
      "execution_count": 4,
      "metadata": {
        "colab": {
          "base_uri": "https://localhost:8080/"
        },
        "id": "vLbp5bhm9A3T",
        "outputId": "22fd9860-5eed-47f3-a1e2-6e5988a59b1c"
      },
      "outputs": [
        {
          "output_type": "stream",
          "name": "stdout",
          "text": [
            "2024-12-16 14:55:03.839117\n",
            "2024\n"
          ]
        }
      ],
      "source": [
        "import datetime\n",
        "time=datetime.datetime.now()\n",
        "print(time)\n",
        "print(time.year)"
      ]
    },
    {
      "cell_type": "code",
      "source": [
        "print(time.year)"
      ],
      "metadata": {
        "colab": {
          "base_uri": "https://localhost:8080/"
        },
        "id": "CfIPZ1uW9POR",
        "outputId": "6a437667-a547-4a4b-9500-25e4d38417c8"
      },
      "execution_count": 8,
      "outputs": [
        {
          "output_type": "stream",
          "name": "stdout",
          "text": [
            "2024\n"
          ]
        }
      ]
    },
    {
      "cell_type": "code",
      "source": [
        "print(time.strftime(\"%A\"))"
      ],
      "metadata": {
        "colab": {
          "base_uri": "https://localhost:8080/"
        },
        "id": "4E0Lhzke9rfA",
        "outputId": "fd9037da-5a71-466b-b0b5-5d6005beb332"
      },
      "execution_count": 9,
      "outputs": [
        {
          "output_type": "stream",
          "name": "stdout",
          "text": [
            "Monday\n"
          ]
        }
      ]
    },
    {
      "cell_type": "code",
      "source": [
        "day=datetime.datetime(2023,12,13)\n",
        "print(day)"
      ],
      "metadata": {
        "colab": {
          "base_uri": "https://localhost:8080/"
        },
        "id": "DprHWry5-MHN",
        "outputId": "65878181-f786-4cac-fc35-5a558ea42cc5"
      },
      "execution_count": 10,
      "outputs": [
        {
          "output_type": "stream",
          "name": "stdout",
          "text": [
            "2023-12-13 00:00:00\n"
          ]
        }
      ]
    },
    {
      "cell_type": "code",
      "source": [
        "today=datetime.datetime.now()\n",
        "print(today)"
      ],
      "metadata": {
        "colab": {
          "base_uri": "https://localhost:8080/"
        },
        "id": "cjC5Utty-y6P",
        "outputId": "8cf2bc57-1d02-4887-9012-c31917b44315"
      },
      "execution_count": 11,
      "outputs": [
        {
          "output_type": "stream",
          "name": "stdout",
          "text": [
            "2024-12-16 15:04:35.449177\n"
          ]
        }
      ]
    },
    {
      "cell_type": "code",
      "source": [
        "print(today.strftime(\"%a\"))"
      ],
      "metadata": {
        "colab": {
          "base_uri": "https://localhost:8080/"
        },
        "id": "qQPNQOEl_-jx",
        "outputId": "81c7a1f3-0124-47d4-f903-c5248ac86825"
      },
      "execution_count": 13,
      "outputs": [
        {
          "output_type": "stream",
          "name": "stdout",
          "text": [
            "Mon\n"
          ]
        }
      ]
    },
    {
      "cell_type": "code",
      "source": [
        "print(today.strftime(\"%z\"))"
      ],
      "metadata": {
        "colab": {
          "base_uri": "https://localhost:8080/"
        },
        "id": "Cs_Nj0_UAG8o",
        "outputId": "ea2ed8e5-3431-467a-91c0-9f860371730a"
      },
      "execution_count": 15,
      "outputs": [
        {
          "output_type": "stream",
          "name": "stdout",
          "text": [
            "\n"
          ]
        }
      ]
    },
    {
      "cell_type": "code",
      "source": [
        "#JSON\n",
        "import json\n",
        "x= {\"name\":\"Rency\",\n",
        "   \"age\":21,\n",
        "   \"school\":\"KYU\",\n",
        "   \"course\":\"SOFTWARE ENGINEERING\"\n",
        "   }\n",
        "print(x)\n",
        "print(type(x))\n",
        "print(x[\"name\"])\n",
        "y=json.dumps(x)\n",
        "print(y)\n",
        "print(type(y))\n",
        "z=json.loads(y)\n",
        "print(type(z))"
      ],
      "metadata": {
        "colab": {
          "base_uri": "https://localhost:8080/"
        },
        "id": "M4jSrS4TBf5_",
        "outputId": "d162ceaf-1e08-417b-fd7c-f8ab685c93dc"
      },
      "execution_count": 23,
      "outputs": [
        {
          "output_type": "stream",
          "name": "stdout",
          "text": [
            "{'name': 'Rency', 'age': 21, 'school': 'KYU', 'course': 'SOFTWARE ENGINEERING'}\n",
            "<class 'dict'>\n",
            "Rency\n",
            "{\"name\": \"Rency\", \"age\": 21, \"school\": \"KYU\", \"course\": \"SOFTWARE ENGINEERING\"}\n",
            "<class 'str'>\n",
            "<class 'dict'>\n"
          ]
        }
      ]
    },
    {
      "cell_type": "code",
      "source": [
        "details={\n",
        "    \"Name\":\"Rency\",\n",
        "    \"Age\":21,\n",
        "    \"fruit1\":\"('banana','orange')\",\n",
        "    \"fruit2\":\"['banana','orange','apple']\",\n",
        "    \"Is_student\":True,\n",
        "    \"Is_teaching\":False,\n",
        "    \"Weight\":20.5,\n",
        "    \"Home\":None\n",
        "}\n",
        "print(details)\n",
        "det=json.dumps(details,indent=1,separators=(\". \",\"- \"),sort_keys=True)\n",
        "print(det)"
      ],
      "metadata": {
        "colab": {
          "base_uri": "https://localhost:8080/"
        },
        "id": "EJBo0PXGFV-O",
        "outputId": "422e535d-4307-47bd-cb89-77058f539858"
      },
      "execution_count": 32,
      "outputs": [
        {
          "output_type": "stream",
          "name": "stdout",
          "text": [
            "{'Name': 'Rency', 'Age': 21, 'fruit1': \"('banana','orange')\", 'fruit2': \"['banana','orange','apple']\", 'Is_student': True, 'Is_teaching': False, 'Weight': 20.5, 'Home': None}\n",
            "{\n",
            " \"Age\"- 21. \n",
            " \"Home\"- null. \n",
            " \"Is_student\"- true. \n",
            " \"Is_teaching\"- false. \n",
            " \"Name\"- \"Rency\". \n",
            " \"Weight\"- 20.5. \n",
            " \"fruit1\"- \"('banana','orange')\". \n",
            " \"fruit2\"- \"['banana','orange','apple']\"\n",
            "}\n"
          ]
        }
      ]
    },
    {
      "cell_type": "code",
      "source": [],
      "metadata": {
        "id": "JoPLizhxIaVj"
      },
      "execution_count": null,
      "outputs": []
    }
  ]
}